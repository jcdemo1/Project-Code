{
 "cells": [
  {
   "cell_type": "code",
   "execution_count": 7,
   "id": "68c067f3",
   "metadata": {},
   "outputs": [],
   "source": [
    "import os\n",
    "from dotenv import load_dotenv\n",
    "load_dotenv()\n",
    "GITLAB_TOKEN = os.getenv(\"GITLAB_TOKEN\")  # Or paste your token directly (not recommended for sharing)\n",
    "GITLAB_GROUP_ID = 111817240  # Use numeric group ID or group name\n",
    "\n",
    "# You can use a unique name per run to avoid collisions:\n",
    "import uuid\n",
    "NEW_PROJECT_NAME = f\"dummy-repo-{uuid.uuid4().hex[:6]}\"\n",
    "GITLAB_API_URL = \"https://gitlab.com/api/v4\"\n",
    "headers = {\"PRIVATE-TOKEN\": GITLAB_TOKEN}\n"
   ]
  },
  {
   "cell_type": "code",
   "execution_count": null,
   "id": "abad2cf4",
   "metadata": {},
   "outputs": [],
   "source": []
  },
  {
   "cell_type": "code",
   "execution_count": 9,
   "id": "103f2494",
   "metadata": {},
   "outputs": [],
   "source": [
    "# import requests\n",
    "\n",
    "# GITLAB_API_URL = \"https://gitlab.com/api/v4\"\n",
    "# headers = {\"PRIVATE-TOKEN\": GITLAB_TOKEN}\n",
    "\n",
    "# response = requests.get(f\"{GITLAB_API_URL}/groups\", headers=headers)\n",
    "\n",
    "# if response.status_code == 200:\n",
    "#     for group in response.json():\n",
    "#         print(f\"Name: {group['full_path']} | ID: {group['id']}\")\n",
    "# else:\n",
    "#     print(f\"Error: {response.text}\")\n"
   ]
  },
  {
   "cell_type": "code",
   "execution_count": 8,
   "id": "6d1a6a78",
   "metadata": {},
   "outputs": [
    {
     "name": "stdout",
     "output_type": "stream",
     "text": [
      "Created new GitLab repo: https://gitlab.com/jcdemomig-group/dummy-repo-32d0c5\n"
     ]
    }
   ],
   "source": [
    "import requests\n",
    "\n",
    "# Create the new project in the group\n",
    "create_repo_payload = {\n",
    "    \"name\": NEW_PROJECT_NAME,\n",
    "    \"namespace_id\": GITLAB_GROUP_ID,  # Group where to create the project\n",
    "    \"initialize_with_readme\": True\n",
    "}\n",
    "\n",
    "response = requests.post(\n",
    "    f\"{GITLAB_API_URL}/projects\",\n",
    "    headers=headers,\n",
    "    data=create_repo_payload\n",
    ")\n",
    "if response.status_code == 201:\n",
    "    project = response.json()\n",
    "    print(f\"Created new GitLab repo: {project['web_url']}\")\n",
    "else:\n",
    "    print(f\"Failed to create repo: {response.text}\")\n",
    "    project = None\n"
   ]
  },
  {
   "cell_type": "code",
   "execution_count": 10,
   "id": "45b08164",
   "metadata": {},
   "outputs": [
    {
     "name": "stdout",
     "output_type": "stream",
     "text": [
      "Created branch 'feature-branch'\n",
      "Added file 'test.txt' to feature branch.\n",
      "Created Merge Request: https://gitlab.com/jcdemomig-group/dummy-repo-32d0c5/-/merge_requests/1\n"
     ]
    }
   ],
   "source": [
    "if project:\n",
    "    project_id = project[\"id\"]\n",
    "\n",
    "    # Create a new branch\n",
    "    branch_name = \"feature-branch\"\n",
    "    create_branch_payload = {\n",
    "        \"branch\": branch_name,\n",
    "        \"ref\": \"main\"\n",
    "    }\n",
    "    response = requests.post(\n",
    "        f\"{GITLAB_API_URL}/projects/{project_id}/repository/branches\",\n",
    "        headers=headers,\n",
    "        data=create_branch_payload\n",
    "    )\n",
    "    if response.status_code == 201:\n",
    "        print(f\"Created branch '{branch_name}'\")\n",
    "    elif \"already exists\" in response.text:\n",
    "        print(f\"Branch '{branch_name}' already exists\")\n",
    "    else:\n",
    "        print(f\"Failed to create branch: {response.text}\")\n",
    "\n",
    "    # Add a file to the new branch\n",
    "    file_payload = {\n",
    "        \"branch\": branch_name,\n",
    "        \"commit_message\": \"Add test.txt\",\n",
    "        \"actions\": [\n",
    "            {\n",
    "                \"action\": \"create\",\n",
    "                \"file_path\": \"test.txt\",\n",
    "                \"content\": \"This is a test file.\"\n",
    "            }\n",
    "        ]\n",
    "    }\n",
    "    response = requests.post(\n",
    "        f\"{GITLAB_API_URL}/projects/{project_id}/repository/commits\",\n",
    "        headers=headers,\n",
    "        json=file_payload\n",
    "    )\n",
    "    if response.status_code == 201:\n",
    "        print(\"Added file 'test.txt' to feature branch.\")\n",
    "    else:\n",
    "        print(f\"Failed to add file: {response.text}\")\n",
    "\n",
    "    # Create a merge request\n",
    "    mr_payload = {\n",
    "        \"source_branch\": branch_name,\n",
    "        \"target_branch\": \"main\",\n",
    "        \"title\": \"Demo Merge Request\",\n",
    "        \"description\": \"Testing automated MR creation.\"\n",
    "    }\n",
    "    response = requests.post(\n",
    "        f\"{GITLAB_API_URL}/projects/{project_id}/merge_requests\",\n",
    "        headers=headers,\n",
    "        data=mr_payload\n",
    "    )\n",
    "    if response.status_code == 201:\n",
    "        mr = response.json()\n",
    "        print(f\"Created Merge Request: {mr['web_url']}\")\n",
    "    else:\n",
    "        print(f\"Failed to create MR: {response.text}\")\n"
   ]
  },
  {
   "cell_type": "code",
   "execution_count": 11,
   "id": "5dc5d364",
   "metadata": {},
   "outputs": [
    {
     "name": "stdout",
     "output_type": "stream",
     "text": [
      "Wiki page created.\n"
     ]
    }
   ],
   "source": [
    "if project:\n",
    "    wiki_payload = {\n",
    "        \"content\": \"# Dummy Wiki Page\\n\\nThis is a test wiki page created by automation.\",\n",
    "        \"title\": \"DummyWiki\"\n",
    "    }\n",
    "    response = requests.post(\n",
    "        f\"{GITLAB_API_URL}/projects/{project_id}/wikis\",\n",
    "        headers=headers,\n",
    "        data=wiki_payload\n",
    "    )\n",
    "    if response.status_code == 201:\n",
    "        print(\"Wiki page created.\")\n",
    "    else:\n",
    "        print(f\"Failed to create wiki page: {response.text}\")"
   ]
  },
  {
   "cell_type": "code",
   "execution_count": 12,
   "id": "8c8cc75a",
   "metadata": {},
   "outputs": [
    {
     "name": "stdout",
     "output_type": "stream",
     "text": [
      "Test issue created.\n"
     ]
    }
   ],
   "source": [
    "if project:\n",
    "    issue_payload = {\n",
    "        \"title\": \"Test Issue\",\n",
    "        \"description\": \"This is an automated test issue.\"\n",
    "    }\n",
    "    response = requests.post(\n",
    "        f\"{GITLAB_API_URL}/projects/{project_id}/issues\",\n",
    "        headers=headers,\n",
    "        data=issue_payload\n",
    "    )\n",
    "    if response.status_code == 201:\n",
    "        print(\"Test issue created.\")\n",
    "    else:\n",
    "        print(f\"Failed to create issue: {response.text}\")\n"
   ]
  },
  {
   "cell_type": "code",
   "execution_count": null,
   "id": "8d1c613f",
   "metadata": {},
   "outputs": [],
   "source": []
  }
 ],
 "metadata": {
  "kernelspec": {
   "display_name": "Python 3 (ipykernel)",
   "language": "python",
   "name": "python3"
  },
  "language_info": {
   "codemirror_mode": {
    "name": "ipython",
    "version": 3
   },
   "file_extension": ".py",
   "mimetype": "text/x-python",
   "name": "python",
   "nbconvert_exporter": "python",
   "pygments_lexer": "ipython3",
   "version": "3.10.9"
  }
 },
 "nbformat": 4,
 "nbformat_minor": 5
}
